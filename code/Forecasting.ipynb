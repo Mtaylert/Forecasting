{
 "cells": [
  {
   "cell_type": "code",
   "execution_count": 1,
   "metadata": {},
   "outputs": [],
   "source": [
    "import pandas as pd\n",
    "import numpy as np\n",
    "import os\n",
    "import matplotlib.pyplot as plt\n",
    "import seaborn as sns\n",
    "import gc\n",
    "from sklearn.metrics import mean_squared_error\n",
    "from sklearn.preprocessing import LabelEncoder,OneHotEncoder\n"
   ]
  },
  {
   "cell_type": "code",
   "execution_count": 2,
   "metadata": {},
   "outputs": [],
   "source": [
    "path = '/Users/sheenmccullough/Documents/Kaggle/M5Forecasting/'\n",
    "\n",
    "calendar = pd.read_csv(path+'calendar.csv')\n",
    "trainData = pd.read_csv(path+'sales_train_validation.csv')\n",
    "sellprices = pd.read_csv(path+'sell_prices.csv')"
   ]
  },
  {
   "cell_type": "code",
   "execution_count": 3,
   "metadata": {},
   "outputs": [],
   "source": [
    "def Convert_to_transaction(df):\n",
    "    \n",
    "    '''\n",
    "    convert our sales data into a daily transacitons set using the pandas melt function\n",
    "    '''\n",
    "    list_id_vars = ['id', 'item_id', 'dept_id', 'cat_id', 'store_id', 'state_id'] \n",
    "    d_columns = df.drop(list_id_vars,axis=1)\n",
    "    df_melted_sales = df.melt(id_vars = list_id_vars, value_vars = d_columns.columns, var_name = 'days', value_name = 'sales') \n",
    "    \n",
    "    \n",
    "    return df_melted_sales\n",
    "\n"
   ]
  },
  {
   "cell_type": "code",
   "execution_count": 4,
   "metadata": {},
   "outputs": [],
   "source": [
    "# This usually takes 16-19 sec to run\n",
    "\n",
    "train_df_melt = Convert_to_transaction(trainData)"
   ]
  },
  {
   "cell_type": "code",
   "execution_count": 5,
   "metadata": {},
   "outputs": [
    {
     "data": {
      "text/plain": [
       "144"
      ]
     },
     "execution_count": 5,
     "metadata": {},
     "output_type": "execute_result"
    }
   ],
   "source": [
    "#del train_df_melt\n",
    "del trainData\n",
    "gc.collect()"
   ]
  },
  {
   "cell_type": "code",
   "execution_count": 6,
   "metadata": {
    "scrolled": true
   },
   "outputs": [
    {
     "data": {
      "text/html": [
       "<div>\n",
       "<style scoped>\n",
       "    .dataframe tbody tr th:only-of-type {\n",
       "        vertical-align: middle;\n",
       "    }\n",
       "\n",
       "    .dataframe tbody tr th {\n",
       "        vertical-align: top;\n",
       "    }\n",
       "\n",
       "    .dataframe thead th {\n",
       "        text-align: right;\n",
       "    }\n",
       "</style>\n",
       "<table border=\"1\" class=\"dataframe\">\n",
       "  <thead>\n",
       "    <tr style=\"text-align: right;\">\n",
       "      <th></th>\n",
       "      <th>id</th>\n",
       "      <th>item_id</th>\n",
       "      <th>dept_id</th>\n",
       "      <th>cat_id</th>\n",
       "      <th>store_id</th>\n",
       "      <th>state_id</th>\n",
       "      <th>days</th>\n",
       "      <th>sales</th>\n",
       "    </tr>\n",
       "  </thead>\n",
       "  <tbody>\n",
       "    <tr>\n",
       "      <th>0</th>\n",
       "      <td>HOBBIES_1_001_CA_1_validation</td>\n",
       "      <td>HOBBIES_1_001</td>\n",
       "      <td>HOBBIES_1</td>\n",
       "      <td>HOBBIES</td>\n",
       "      <td>CA_1</td>\n",
       "      <td>CA</td>\n",
       "      <td>d_1</td>\n",
       "      <td>0</td>\n",
       "    </tr>\n",
       "    <tr>\n",
       "      <th>1</th>\n",
       "      <td>HOBBIES_1_002_CA_1_validation</td>\n",
       "      <td>HOBBIES_1_002</td>\n",
       "      <td>HOBBIES_1</td>\n",
       "      <td>HOBBIES</td>\n",
       "      <td>CA_1</td>\n",
       "      <td>CA</td>\n",
       "      <td>d_1</td>\n",
       "      <td>0</td>\n",
       "    </tr>\n",
       "    <tr>\n",
       "      <th>2</th>\n",
       "      <td>HOBBIES_1_003_CA_1_validation</td>\n",
       "      <td>HOBBIES_1_003</td>\n",
       "      <td>HOBBIES_1</td>\n",
       "      <td>HOBBIES</td>\n",
       "      <td>CA_1</td>\n",
       "      <td>CA</td>\n",
       "      <td>d_1</td>\n",
       "      <td>0</td>\n",
       "    </tr>\n",
       "    <tr>\n",
       "      <th>3</th>\n",
       "      <td>HOBBIES_1_004_CA_1_validation</td>\n",
       "      <td>HOBBIES_1_004</td>\n",
       "      <td>HOBBIES_1</td>\n",
       "      <td>HOBBIES</td>\n",
       "      <td>CA_1</td>\n",
       "      <td>CA</td>\n",
       "      <td>d_1</td>\n",
       "      <td>0</td>\n",
       "    </tr>\n",
       "    <tr>\n",
       "      <th>4</th>\n",
       "      <td>HOBBIES_1_005_CA_1_validation</td>\n",
       "      <td>HOBBIES_1_005</td>\n",
       "      <td>HOBBIES_1</td>\n",
       "      <td>HOBBIES</td>\n",
       "      <td>CA_1</td>\n",
       "      <td>CA</td>\n",
       "      <td>d_1</td>\n",
       "      <td>0</td>\n",
       "    </tr>\n",
       "  </tbody>\n",
       "</table>\n",
       "</div>"
      ],
      "text/plain": [
       "                              id        item_id    dept_id   cat_id store_id  \\\n",
       "0  HOBBIES_1_001_CA_1_validation  HOBBIES_1_001  HOBBIES_1  HOBBIES     CA_1   \n",
       "1  HOBBIES_1_002_CA_1_validation  HOBBIES_1_002  HOBBIES_1  HOBBIES     CA_1   \n",
       "2  HOBBIES_1_003_CA_1_validation  HOBBIES_1_003  HOBBIES_1  HOBBIES     CA_1   \n",
       "3  HOBBIES_1_004_CA_1_validation  HOBBIES_1_004  HOBBIES_1  HOBBIES     CA_1   \n",
       "4  HOBBIES_1_005_CA_1_validation  HOBBIES_1_005  HOBBIES_1  HOBBIES     CA_1   \n",
       "\n",
       "  state_id days  sales  \n",
       "0       CA  d_1      0  \n",
       "1       CA  d_1      0  \n",
       "2       CA  d_1      0  \n",
       "3       CA  d_1      0  \n",
       "4       CA  d_1      0  "
      ]
     },
     "execution_count": 6,
     "metadata": {},
     "output_type": "execute_result"
    }
   ],
   "source": [
    "train_df_melt.head()"
   ]
  },
  {
   "cell_type": "code",
   "execution_count": 7,
   "metadata": {},
   "outputs": [],
   "source": [
    "train_df = pd.merge(train_df_melt,calendar[['d','wday','wm_yr_wk','event_name_1','date','year']],left_on='days',\n",
    "                    right_on='d')"
   ]
  },
  {
   "cell_type": "code",
   "execution_count": 8,
   "metadata": {},
   "outputs": [],
   "source": [
    "texas = train_df[train_df['state_id']=='TX']"
   ]
  },
  {
   "cell_type": "code",
   "execution_count": 9,
   "metadata": {},
   "outputs": [],
   "source": [
    "daily_sales = texas.groupby(['date'])['sales'].sum()"
   ]
  },
  {
   "cell_type": "markdown",
   "metadata": {},
   "source": [
    "### basic time series equation\n",
    "\n",
    "$$ Sales_{t+1} = f(Sales_t,Sales_{t-1},Sales_{t-2},Sales_{t-3}....,error), $$\n",
    "#### Where t+1 is the next day and t-1 is the previous day. T-2 is two days prior and so on..This simplistic model's future prediction is only based on past sales values, but not on any external variables which might affect sales. The error term on the right allows for random variation"
   ]
  },
  {
   "cell_type": "code",
   "execution_count": 10,
   "metadata": {
    "scrolled": false
   },
   "outputs": [
    {
     "data": {
      "image/png": "[encoded data removed]",
      "text/plain": [
       "<Figure size 1296x720 with 1 Axes>"
      ]
     },
     "metadata": {
      "needs_background": "light"
     },
     "output_type": "display_data"
    }
   ],
   "source": [
    "## texas daily sales\n",
    "plt.title('Texas Daily Sales')\n",
    "daily_sales.plot(style='k.',figsize=(18,10))\n",
    "plt.xticks(rotation='vertical')\n",
    "plt.show()\n"
   ]
  },
  {
   "cell_type": "markdown",
   "metadata": {},
   "source": [
    "## seasonal plot"
   ]
  },
  {
   "cell_type": "code",
   "execution_count": 11,
   "metadata": {},
   "outputs": [],
   "source": [
    "def seasonalplot(df):\n",
    "    \n",
    "    data=df[['year','date','sales']]\n",
    "    unique_yrs = list(data['year'].drop_duplicates())\n",
    "    for y in unique_yrs:\n",
    "        yr_df = data[data['year']==y]\n",
    "        yr_df['Month'] =pd.DatetimeIndex( yr_df['date']).month\n",
    "        grpd = yr_df.groupby(['Month'])['sales'].sum()\n",
    "        grpd.plot(figsize=(18,10))\n",
    "    \n",
    "    plt.legend(unique_yrs,fontsize=12,loc='upper left')\n",
    "    plt.show()\n",
    "    \n",
    "        \n",
    "    "
   ]
  },
  {
   "cell_type": "code",
   "execution_count": null,
   "metadata": {},
   "outputs": [],
   "source": [
    "seasonalplot(texas)"
   ]
  },
  {
   "cell_type": "code",
   "execution_count": null,
   "metadata": {},
   "outputs": [],
   "source": [
    "def subseriesboxplot(df):\n",
    "    data=df[['year','date','sales']]\n",
    "    dfgr = data.groupby(['date'])['sales'].sum().reset_index()\n",
    "    dfgr['month'] = pd.DatetimeIndex(dfgr['date']).month\n",
    "    \n",
    "    plt.figure(figsize=(18,10))\n",
    "    ax = sns.boxplot(x='month',y='sales',data=dfgr)\n",
    "    print(dfgr['sales'].describe())\n",
    "    \n",
    "    "
   ]
  },
  {
   "cell_type": "code",
   "execution_count": null,
   "metadata": {},
   "outputs": [],
   "source": [
    "subseriesboxplot(texas)"
   ]
  },
  {
   "cell_type": "code",
   "execution_count": null,
   "metadata": {},
   "outputs": [],
   "source": [
    "def scatterbyday(df):\n",
    "    data=df[['year','date','sales']]\n",
    "    data['dayofyear'] = pd.DatetimeIndex(data['date']).dayofyear\n",
    "    \n",
    "    for y in list(data['year'].drop_duplicates()):\n",
    "        dfgr = data[data['year']==y]\n",
    "        dfgr = dfgr.groupby(['dayofyear'])['sales'].sum()\n",
    "        dfgr.plot(figsize=(18,10))\n",
    "    plt.legend(list(data['year'].drop_duplicates()),fontsize=12,loc='upper left')\n",
    "    plt.show()\n",
    "    \n",
    "    dayofyear = data.groupby(['dayofyear'])['sales'].sum()\n",
    "    dayofyear.plot(figsize=(18,10))"
   ]
  },
  {
   "cell_type": "code",
   "execution_count": null,
   "metadata": {},
   "outputs": [],
   "source": [
    "scatterbyday(texas)"
   ]
  },
  {
   "cell_type": "markdown",
   "metadata": {},
   "source": [
    "## Autocorrelation\n",
    "\n",
    "just as correlation emasures the extent of a linear relationship between two variables, the autocorrelation measures the linear relationship between lagged values of a time series. \n",
    "\n",
    "$$ rk = \\frac {\\sum^T_{t=k+1} (y_t - ybar) (y_{t-k}-ybar)}{\\sum^T_{t=1}(y_t - ybar)^2} $$"
   ]
  },
  {
   "cell_type": "code",
   "execution_count": null,
   "metadata": {},
   "outputs": [],
   "source": [
    "autcorr= texas.groupby(['date'])['sales'].sum().reset_index()"
   ]
  },
  {
   "cell_type": "code",
   "execution_count": null,
   "metadata": {},
   "outputs": [],
   "source": [
    "def autocorrelation(x, n_lags):\n",
    "    autocorrels = {'lags':[],'autocorrelation':[]}\n",
    "    for l in range(1,n_lags):\n",
    "        mean = x.mean()\n",
    "        normarray = x[:-l]\n",
    "        lagarray= x[l:]\n",
    "        numerator = sum([((yt-mean)*(ytk-mean)) for yt,ytk in zip(normarray,lagarray)])\n",
    "        denominator = sum([(yt-mean)**2 for yt in normarray])\n",
    "        \n",
    "        autocorrels['lags'].append(l)\n",
    "        if denominator!=0:\n",
    "            val =numerator/denominator\n",
    "            autocorrels['autocorrelation'].append(numerator/denominator)\n",
    "\n",
    "            plt.vlines(l,0,(numerator/denominator))\n",
    "        else:\n",
    "            \n",
    "            autocorrels['autocorrelation'].append(0)\n",
    "\n",
    "            plt.vlines(l,0,(0))\n",
    "            \n",
    "         \n",
    "    plt.plot(autocorrels['lags'],autocorrels['autocorrelation'],'bo')\n",
    "    plt.hlines(0,0,n_lags+1)\n",
    "    upperlimit = 2/np.sqrt(len(normarray))\n",
    "    lowerlimit = -(2/np.sqrt(len(normarray)))\n",
    "    plt.hlines(lowerlimit,0,n_lags+1,colors='b',linestyles='dashed')\n",
    "    plt.hlines(upperlimit,0,n_lags+1,colors='b',linestyles='dashed')\n",
    "    plt.show()\n",
    "\n",
    "\n",
    "    return autocorrels\n"
   ]
  },
  {
   "cell_type": "code",
   "execution_count": null,
   "metadata": {},
   "outputs": [],
   "source": [
    "#### there appears to be a weekly seasonal component based on the autocorrelation graph. r5,r6,r7 are higher than for other lags. These points are Friday, Saturday, and Sunday"
   ]
  },
  {
   "cell_type": "code",
   "execution_count": null,
   "metadata": {},
   "outputs": [],
   "source": [
    "\n",
    "plt.figure(figsize=(30,10))\n",
    "autocdf=autocorrelation(autcorr['sales'],n_lags=90)\n",
    "\n",
    "\n",
    "plt.plot(autcorr['sales'])\n",
    "plt.xlim(0,90)\n",
    "\n",
    "\n",
    "print(\n",
    "\n",
    "\"There appears to be a weekly seasonal component based on the autocorrelation graph. \\nR5,r6,r7 are higher than for other lags. These points are Friday, Saturday, and Sunday\"\n",
    ")"
   ]
  },
  {
   "cell_type": "markdown",
   "metadata": {},
   "source": [
    "A slow decrease in the ACF as lags increase is due to an upward trend while a slow increase would be due to a \n",
    "downward trend. Our time series does not appear to have any sort of trend."
   ]
  },
  {
   "cell_type": "markdown",
   "metadata": {},
   "source": [
    "## Noise\n",
    "\n",
    "For white noise series, we expect each autocorrelation to be close to zero. Of course, they will not be exactly equal to zero as there is some random variation. For a white noise series, we expect 95% of the spikes in the ACF to lie within  ±2/√T where  T is the length of the time series. It is common to plot these bounds on a graph of the ACF as seen above with the dashed blue lines. If one or more large spikes ar eoutside of these bounds, or if substantially more than 5% of the spikes are outside, then the series is probably not noise. "
   ]
  },
  {
   "cell_type": "markdown",
   "metadata": {},
   "source": []
  },
  {
   "cell_type": "markdown",
   "metadata": {},
   "source": [
    "## Simple Forecasting Methods\n",
    "\n",
    "    1.) Average Method: Forecasts for all future values are euqal to the average of the historical data. \n",
    "    \n",
    "$$ yhat_{T+h|T} = ybar = (y_1+....+y_T)/T $$\n",
    "    \n",
    "    2.) Naiive method\n",
    "    3.) Seasonal Naiive Method\n",
    "    4.) Drift Method"
   ]
  },
  {
   "cell_type": "code",
   "execution_count": null,
   "metadata": {},
   "outputs": [],
   "source": [
    "train_df.head()"
   ]
  },
  {
   "cell_type": "code",
   "execution_count": null,
   "metadata": {},
   "outputs": [],
   "source": [
    "samplesub = pd.read_csv(path+'sample_submission.csv')"
   ]
  },
  {
   "cell_type": "code",
   "execution_count": null,
   "metadata": {
    "scrolled": true
   },
   "outputs": [],
   "source": [
    "averageforcast = train_df.groupby(['id'])['sales'].mean().reset_index()"
   ]
  },
  {
   "cell_type": "code",
   "execution_count": null,
   "metadata": {},
   "outputs": [],
   "source": [
    "train = train_df[train_df['date']<='2016-04-01']\n",
    "validation = train_df[train_df['date']>'2016-04-01']"
   ]
  },
  {
   "cell_type": "markdown",
   "metadata": {},
   "source": [
    "<br>"
   ]
  },
  {
   "cell_type": "markdown",
   "metadata": {},
   "source": [
    "<br>"
   ]
  },
  {
   "cell_type": "code",
   "execution_count": null,
   "metadata": {},
   "outputs": [],
   "source": [
    "def plotforecast(evaluate,train, graphtype='simple_average'):\n",
    "    \n",
    "    groupedevaldrft = evaluate.groupby(['date'])['predictedsales'].sum().reset_index()\n",
    "    groupedevalsales = evaluate.groupby(['date'])['sales'].sum().reset_index()\n",
    "    grouped = pd.merge(groupedevaldrft,groupedevalsales,on='date')\n",
    "    trained = train.groupby(['date'])['sales'].sum().reset_index()\n",
    "    grouped['residuals'] = grouped['sales']-grouped['predictedsales']\n",
    "    \n",
    "    \n",
    "    forecastdays = pd.DataFrame({'days':grouped['date'].drop_duplicates()})\n",
    "    forecastdays['days']= pd.to_datetime(forecastdays['days'])\n",
    "    forecastdays['h'] = [(x-forecastdays['days'].min()).days for x in forecastdays['days']]\n",
    " \n",
    "    \n",
    "\n",
    "\n",
    "    grouped = pd.merge(grouped,forecastdays,left_on='date',right_on='days')\n",
    "\n",
    "    stdv = grouped['residuals'].std()\n",
    "\n",
    "\n",
    "    if graphtype == 'simple_average':\n",
    "        grouped['upper95'] = grouped['predictedsales'] + (1.96*stdv) *np.sqrt((1+(1/len(grouped))))\n",
    "        grouped['lower95'] = grouped['predictedsales'] - (1.96*stdv) *np.sqrt((1+(1/len(grouped))))\n",
    "\n",
    "        grouped['upper80'] = grouped['predictedsales'] + (1.28*stdv)*np.sqrt((1+(1/len(grouped))))\n",
    "        grouped['lower80'] = grouped['predictedsales'] - (1.28*stdv)*np.sqrt((1+(1/len(grouped))))\n",
    "\n",
    "\n",
    "\n",
    "\n",
    "\n",
    "        plt.figure(figsize=(18,5))\n",
    "\n",
    "        plt.plot(trained['date'],trained['sales'])\n",
    "        plt.plot(grouped['date'],grouped['sales'])\n",
    "        plt.plot(grouped['date'],grouped['predictedsales'])\n",
    "\n",
    "        plt.plot(grouped['date'],grouped['upper95'],'b')\n",
    "        plt.plot(grouped['date'],grouped['lower95'],'b')\n",
    "        plt.plot(grouped['date'],grouped['upper80'],'b--',)\n",
    "        plt.plot(grouped['date'],grouped['lower80'],'b--')\n",
    "\n",
    "        plt.fill_between(grouped['date'], \n",
    "                         grouped['predictedsales'], \n",
    "                         grouped['upper80'], color='grey', alpha='0.5')\n",
    "\n",
    "\n",
    "        plt.fill_between(grouped['date'], \n",
    "                         grouped['predictedsales'], \n",
    "                         grouped['lower80'], color='grey', alpha='0.5')\n",
    "\n",
    "\n",
    "        plt.fill_between(grouped['date'], \n",
    "                         grouped['upper80'], \n",
    "                         grouped['upper95'], color='grey', alpha='0.3')\n",
    "\n",
    "\n",
    "        plt.fill_between(grouped['date'], \n",
    "                         grouped['lower80'], \n",
    "                         grouped['lower95'], color='grey', alpha='0.3')\n",
    "\n",
    "\n",
    "\n",
    "\n",
    "        plt.xlim('2016-01-01','2016-04-26')\n",
    "        plt.show()\n",
    "\n",
    "    elif graphtype =='naiive':\n",
    "        grouped['upper95'] = grouped['predictedsales'] + (1.96*stdv) *np.sqrt(grouped['h'])\n",
    "        grouped['lower95'] = grouped['predictedsales'] - (1.96*stdv) *np.sqrt(grouped['h'])\n",
    "\n",
    "        grouped['upper80'] = grouped['predictedsales'] + (1.28*stdv)*np.sqrt(grouped['h'])\n",
    "        grouped['lower80'] = grouped['predictedsales'] - (1.28*stdv)*np.sqrt(grouped['h'])\n",
    "\n",
    "\n",
    "\n",
    "\n",
    "\n",
    "        plt.figure(figsize=(18,5))\n",
    "\n",
    "        plt.plot(trained['date'],trained['sales'])\n",
    "        plt.plot(grouped['date'],grouped['sales'])\n",
    "        plt.plot(grouped['date'],grouped['predictedsales'])\n",
    "\n",
    "        plt.plot(grouped['date'],grouped['upper95'],'b')\n",
    "        plt.plot(grouped['date'],grouped['lower95'],'b')\n",
    "        plt.plot(grouped['date'],grouped['upper80'],'b--',)\n",
    "        plt.plot(grouped['date'],grouped['lower80'],'b--')\n",
    "\n",
    "        plt.fill_between(grouped['date'], \n",
    "                         grouped['predictedsales'], \n",
    "                         grouped['upper80'], color='grey', alpha='0.5')\n",
    "\n",
    "\n",
    "        plt.fill_between(grouped['date'], \n",
    "                         grouped['predictedsales'], \n",
    "                         grouped['lower80'], color='grey', alpha='0.5')\n",
    "\n",
    "\n",
    "        plt.fill_between(grouped['date'], \n",
    "                         grouped['upper80'], \n",
    "                         grouped['upper95'], color='grey', alpha='0.3')\n",
    "\n",
    "\n",
    "        plt.fill_between(grouped['date'], \n",
    "                         grouped['lower80'], \n",
    "                         grouped['lower95'], color='grey', alpha='0.3')\n",
    "\n",
    "\n",
    "\n",
    "\n",
    "        plt.xlim('2016-01-01','2016-04-26')\n",
    "    "
   ]
  },
  {
   "cell_type": "markdown",
   "metadata": {},
   "source": [
    "Simple Average\n",
    "\n",
    "$$ yhat_{T+h|T} = ybar = (y_1+....+y_T)/T $$\n",
    "\n"
   ]
  },
  {
   "cell_type": "code",
   "execution_count": null,
   "metadata": {},
   "outputs": [],
   "source": [
    "\n",
    "def simplemean(train,validation):\n",
    "    simplemean = train.groupby(['id'])['sales'].mean().reset_index()\n",
    "    simplemean.columns= ['id','predictedsales']\n",
    "    evaluate = pd.merge(validation[['id','sales','date']],simplemean,on='id')\n",
    "    evaluate['residuals'] = evaluate['sales']-evaluate['predictedsales']\n",
    " \n",
    "    \n",
    "  \n",
    "    \n",
    "    rmse= np.sqrt(mean_squared_error(evaluate['sales'],evaluate['predictedsales']))\n",
    "    print(\"RMSE is {}\".format(rmse))\n",
    "    \n",
    "    #plotforecast(evaluate,train,graphtype='simple_average')\n",
    "    \n",
    "    \n",
    "\n",
    "    return rmse\n"
   ]
  },
  {
   "cell_type": "code",
   "execution_count": null,
   "metadata": {},
   "outputs": [],
   "source": [
    "simplemean(train,validation)"
   ]
  },
  {
   "cell_type": "markdown",
   "metadata": {},
   "source": [
    "$$ Naiive Method $$\n",
    "$$ yhat_{T+h|T}=y_T $$\n",
    "\n",
    "#simply set all forecasts to be the value of the last observation"
   ]
  },
  {
   "cell_type": "code",
   "execution_count": null,
   "metadata": {},
   "outputs": [],
   "source": [
    "x1 = train[train['id']=='HOBBIES_1_002_CA_1_validation']\n",
    "v1 = validation[validation['id']=='HOBBIES_1_002_CA_1_validation']\n",
    "\n",
    "\n"
   ]
  },
  {
   "cell_type": "code",
   "execution_count": null,
   "metadata": {},
   "outputs": [],
   "source": [
    "def naiveforecast(train,validation):\n",
    "    maxdate = train['date'].max()\n",
    "    maxdatedf = train[train['date']==maxdate]\n",
    "    maxdatedf=maxdatedf[['id','sales']]\n",
    "    maxdatedf.columns = ['id','predictedsales']\n",
    "    evaluate = pd.merge(validation[['id','sales','date']],maxdatedf,on='id')\n",
    "    rmse= np.sqrt(mean_squared_error(evaluate['sales'],evaluate['predictedsales']))\n",
    "    \n",
    "    print(\"RMSE is {}\".format(rmse))\n",
    "    #plotforecast(evaluate,train,graphtype='naiive')\n",
    "   \n",
    "    return rmse"
   ]
  },
  {
   "cell_type": "code",
   "execution_count": null,
   "metadata": {},
   "outputs": [],
   "source": [
    "naiveforecast(train,validation)"
   ]
  },
  {
   "cell_type": "markdown",
   "metadata": {},
   "source": [
    "## Moving Average\n",
    "\n",
    "$$ yhat_{T+h|T} = \\frac{1}{d} * \\sum^T_{T-d}y_n $$"
   ]
  },
  {
   "cell_type": "code",
   "execution_count": null,
   "metadata": {},
   "outputs": [],
   "source": [
    "train.head()"
   ]
  },
  {
   "cell_type": "code",
   "execution_count": null,
   "metadata": {},
   "outputs": [],
   "source": [
    "def MAPred(train,validation,id_,MA=90):\n",
    "\n",
    "    x1 = train[train['id']==id_]\n",
    "    v1 = validation[validation['id']==id_]\n",
    "\n",
    "\n",
    "    \n",
    "\n",
    "    predictions = []\n",
    "    for i in range(len(v1)):\n",
    "        if i ==0:\n",
    "            pred = np.mean(x1['sales'][-MA:])\n",
    "            predictions.append(pred)\n",
    "\n",
    "        elif i < MA+1 and i > 0:\n",
    "\n",
    "            pred = .5* (np.mean(x1['sales'][-MA+i:]) + np.mean(predictions[:i]))\n",
    "            predictions.append(pred)\n",
    "        elif i > MA+1:\n",
    "\n",
    "            predictions.append(np.mean(predictions[:i]))\n",
    "            \n",
    "            \n",
    "    return predictions\n",
    "\n",
    "\n",
    "  "
   ]
  },
  {
   "cell_type": "code",
   "execution_count": null,
   "metadata": {},
   "outputs": [],
   "source": [
    "import random\n",
    "def RunMA(train,validation):\n",
    "    \n",
    "    preds = []\n",
    "    uniqueids = list(train['id'].drop_duplicates())\n",
    "    random.shuffle(uniqueids)\n",
    "    random.shuffle(uniqueids)\n",
    "  \n",
    "    for id_ in uniqueids[0:5]:\n",
    "        MovingAvg = MAPred(train,validation,id_,MA=30)\n",
    "        preds.append(tuple([id_,list(MovingAvg)]))\n",
    "        \n",
    "    return preds"
   ]
  },
  {
   "cell_type": "code",
   "execution_count": null,
   "metadata": {},
   "outputs": [],
   "source": [
    "predlist = RunMA(train,validation)"
   ]
  },
  {
   "cell_type": "code",
   "execution_count": null,
   "metadata": {
    "scrolled": true
   },
   "outputs": [],
   "source": [
    "predlist"
   ]
  },
  {
   "cell_type": "code",
   "execution_count": null,
   "metadata": {},
   "outputs": [],
   "source": [
    "\n",
    "v1_001 = validation[validation['id']==predlist[0][0]]\n",
    "v1_001['90dMA'] = predlist[0][1]\n",
    "\n",
    "plt.figure(figsize=(30,10))\n",
    "autocdf=autocorrelation(v1_001['90dMA'],n_lags=15)\n",
    "\n",
    "plt.xticks(rotation=70)\n",
    "\n",
    "\n",
    "plt.plot(v1_001['date'],v1_001['90dMA'])\n",
    "\n"
   ]
  },
  {
   "cell_type": "code",
   "execution_count": null,
   "metadata": {},
   "outputs": [],
   "source": [
    "plt.xticks(rotation=70)\n",
    "plt.plot(v1_001['date'],v1_001['90dMA'] )\n",
    "plt.plot(v1_001['date'],v1_001['sales'] )\n",
    "print(np.sqrt(mean_squared_error(v1_001['sales'],v1_001['90dMA'])))"
   ]
  },
  {
   "cell_type": "code",
   "execution_count": null,
   "metadata": {},
   "outputs": [],
   "source": [
    "v1_001['residuals'] = v1_001['sales']-v1_001['90dMA']\n",
    "\n",
    "plt.xticks(rotation=70)\n",
    "\n",
    "plt.plot(v1_001['date'],v1_001['residuals'],'o--' )\n",
    "\n",
    "\n"
   ]
  },
  {
   "cell_type": "markdown",
   "metadata": {},
   "source": [
    "We set each forecast to be equal to the last observation value from the same point on time of the year before\n",
    "\n",
    "$$ Seasonal Naiive Method $$\n",
    "$$ yhat_{T+h|T} = y_{T+h - m(k+1)} $$\n",
    "\n",
    "Where m is the seasonal period and k is the ineger part of (h-1)/m \n",
    "With quarterly data, the forecast of all future Q2 values is equal to the last observed Q2"
   ]
  },
  {
   "cell_type": "code",
   "execution_count": null,
   "metadata": {},
   "outputs": [],
   "source": [
    "def seasonalnaiveforecast(train,validation):\n",
    "    validation['date']= pd.to_datetime(validation['date'])\n",
    "    train['date']= pd.to_datetime(train['date'])\n",
    "\n",
    "\n",
    "    validation = validation[['id','sales','date']]\n",
    "    validation['t-1'] = validation['date']- pd.Timedelta(days=365) \n",
    "    seasonal = train[['id','date','sales']]\n",
    "    seasonal.columns = ['id','date','predictedsales']\n",
    "    evaluate = pd.merge(validation,seasonal,left_on=['id','t-1'],\n",
    "                       right_on=['id','date'])\n",
    "   \n",
    "\n",
    "\n",
    "\n",
    "\n",
    "    return rmse"
   ]
  },
  {
   "cell_type": "code",
   "execution_count": null,
   "metadata": {},
   "outputs": [],
   "source": [
    "seasonalnaiveforecast(train,validation)"
   ]
  },
  {
   "cell_type": "markdown",
   "metadata": {},
   "source": [
    "### Drift Method\n",
    "    -A variation of the naiive method is to allow forecast to increase or decrease over time, where the amount\n",
    "    \n",
    "    of the change over time (the *drift*) is set to be the average change seen in the historical data.\n",
    "    \n",
    "$$ yhat_{T+h|T} = y_T + h\\frac{y_t - y_1}{T - T_0}$$ "
   ]
  },
  {
   "cell_type": "code",
   "execution_count": null,
   "metadata": {},
   "outputs": [],
   "source": [
    "\n",
    "def driftmethodforecast(train,validation):\n",
    "    \n",
    "    \n",
    "    y_t_df = train[train['date']==train['date'].max()][['id','sales']]\n",
    "    y_0_df = train[train['date']==train['date'].min()][['id','sales']]\n",
    "    y_t_df.columns=['id','salesT']\n",
    "    y_0_df.columns=['id','sales0']\n",
    "    valcounts = train['id'].value_counts().reset_index()\n",
    "    valcounts.columns=['id','counts']\n",
    "\n",
    "    m_df = pd.merge(pd.merge(y_t_df,y_0_df,on='id'),valcounts,on='id')\n",
    "    m_df['slope'] = (m_df['salesT']-m_df['sales0'])/m_df['counts']\n",
    "\n",
    "\n",
    "    forecastdays = pd.DataFrame({'days':validation['date'].drop_duplicates()})\n",
    "    forecastdays['h'] = [(x-forecastdays['days'].min()).days for x in forecastdays['days']]\n",
    "\n",
    "    evaluationdf = pd.merge(validation[['id','date','sales']],forecastdays,left_on='date',right_on='days')\n",
    "\n",
    "    evaluationdf = pd.merge(evaluationdf,m_df,on='id')\n",
    "\n",
    "\n",
    "    evaluationdf['drift_forecast'] = evaluationdf['salesT'] + (evaluationdf['slope'] * evaluationdf['h'])\n",
    "    \n",
    "    \n",
    "\n",
    "    rmse= np.sqrt(mean_squared_error(evaluationdf['sales'],evaluationdf['drift_forecast']))\n",
    "\n",
    "    print(\"RMSE is {}\".format(rmse))\n",
    "    \n",
    "    return rmse"
   ]
  },
  {
   "cell_type": "code",
   "execution_count": null,
   "metadata": {},
   "outputs": [],
   "source": [
    "driftmethodforecast(train,validation)"
   ]
  },
  {
   "cell_type": "markdown",
   "metadata": {},
   "source": [
    "### Simple linear Regression for time series \n",
    "\n",
    "$$ yt = B_0 + B_1x_t + E_t $$"
   ]
  },
  {
   "cell_type": "code",
   "execution_count": null,
   "metadata": {},
   "outputs": [],
   "source": [
    "trainset = train[train['id']=='FOODS_1_085_TX_3_validation'] \n",
    "testset = validation[validation['id']=='FOODS_1_085_TX_3_validation'] "
   ]
  },
  {
   "cell_type": "code",
   "execution_count": null,
   "metadata": {},
   "outputs": [],
   "source": [
    "train_df = trainset[['date','sales']]\n",
    "train_df.set_index('date',inplace=True)\n",
    "train_df['datetime'] = np.array(pd.to_datetime(train_df['sales'].dropna()).index.values, dtype=float)\n",
    "train_df.reset_index(inplace=True)\n",
    "\n",
    "\n",
    "\n",
    "test_df = testset[['date','sales']]\n",
    "test_df.set_index('date',inplace=True)\n",
    "test_df['datetime'] = np.array(pd.to_datetime(test_df['sales'].dropna()).index.values, dtype=float)"
   ]
  },
  {
   "cell_type": "code",
   "execution_count": null,
   "metadata": {
    "scrolled": true
   },
   "outputs": [],
   "source": [
    "\n",
    "def SlopeCoeff(data=df,target='sales',feature='TV'):\n",
    "    sq = [(x-data[feature].mean())**2 for x in data[feature]]\n",
    "    div = [(x-data[feature].mean())*(y-data[target].mean()) for x,y in zip(data[feature],data[target])]\n",
    "    coeff = sum(div)/sum(sq)\n",
    "    return coeff\n",
    "slope = SlopeCoeff(data=train_df,target='sales',feature='datetime')"
   ]
  },
  {
   "cell_type": "code",
   "execution_count": null,
   "metadata": {},
   "outputs": [],
   "source": [
    "def Intercept(y,x,slope):\n",
    "    intercept = y.mean()-(slope*x.mean())\n",
    "    return intercept\n",
    "\n",
    "\n",
    "itercept = Intercept(train_df['sales'],train_df['datetime'],slope)\n"
   ]
  },
  {
   "cell_type": "code",
   "execution_count": null,
   "metadata": {},
   "outputs": [],
   "source": [
    "def predict(X):\n",
    "    predictions = [intercept + (slope*x) for x in X]\n",
    "    return predictions\n",
    "\n",
    "test_df['predictions'] = predict(test_df['datetime'])\n",
    "\n",
    "    \n",
    "    "
   ]
  },
  {
   "cell_type": "code",
   "execution_count": null,
   "metadata": {},
   "outputs": [],
   "source": [
    "plt.xticks(rotation=90)\n",
    "plt.plot(test_df['predictions'])\n",
    "plt.plot(test_df['sales'])"
   ]
  },
  {
   "cell_type": "code",
   "execution_count": null,
   "metadata": {},
   "outputs": [],
   "source": [
    "print(np.sqrt(mean_squared_error(test_df['sales'],test_df['predictions'])))"
   ]
  },
  {
   "cell_type": "code",
   "execution_count": null,
   "metadata": {},
   "outputs": [],
   "source": [
    "\n",
    "\n",
    "plt.figure(figsize=(30,10))\n",
    "autocdf=autocorrelation(test_df['predictions'],n_lags=10)\n",
    "plt.xticks(rotation=70)\n",
    "plt.plot(test_df['predictions'])"
   ]
  },
  {
   "cell_type": "code",
   "execution_count": null,
   "metadata": {},
   "outputs": [],
   "source": [
    "trainset.index = pd.to_datetime(trainset.date)\n",
    "y = trainset.sales\n",
    "ax = y.plot()\n",
    "ax.set_ylabel(\"Sales\")\n",
    "y.head()"
   ]
  },
  {
   "cell_type": "code",
   "execution_count": null,
   "metadata": {},
   "outputs": [],
   "source": [
    "y.loc['2015-02-01':'2015-02-11'].plot();"
   ]
  },
  {
   "cell_type": "markdown",
   "metadata": {},
   "source": [
    "## let's try to predict the next day of data"
   ]
  },
  {
   "cell_type": "code",
   "execution_count": null,
   "metadata": {},
   "outputs": [],
   "source": [
    "testset.index = pd.to_datetime(testset.date)\n",
    "y_test = testset.sales\n",
    "ax = y_test.plot()\n",
    "ax.set_ylabel(\"Sales\")\n",
    "y_test.head(100)"
   ]
  },
  {
   "cell_type": "code",
   "execution_count": null,
   "metadata": {},
   "outputs": [],
   "source": [
    "known = y\n",
    "unknown = y_test['2016-04-02':'2016-04-24']\n",
    "to_predict = y_test['2016-04-09':'2016-04-09']\n",
    "\n",
    "plt.figure(figsize=(18,10))\n",
    "fig, ax = plt.subplots(figsize=(18,10));\n",
    "known.plot(ax=ax, c='c', zorder=3);\n",
    "unknown.plot(ax=ax, c='black', alpha=0.5);\n",
    "to_predict.plot(ax=ax, c='r', marker='*', markersize=16,\n",
    "                linestyle='');\n",
    "plt.xlim('2015-08-01','2016-04-24');\n",
    "ax.legend(['known', 'future', 'value to predict']);\n",
    "ax.set_ylabel('sales');\n"
   ]
  },
  {
   "cell_type": "code",
   "execution_count": null,
   "metadata": {},
   "outputs": [],
   "source": [
    "y_all = pd.concat([y,y_test])\n",
    "y_all"
   ]
  },
  {
   "cell_type": "code",
   "execution_count": null,
   "metadata": {},
   "outputs": [],
   "source": [
    "start = np.where(y_all.index =='2011-01-29')[0][0]\n",
    "middle = np.where(y_all.index =='2016-04-13')[0][0]\n",
    "\n",
    "end = np.where(y_all.index == '2016-04-24')[0][0]\n",
    "window = 50\n",
    "\n",
    "\n",
    "plt.figure(figsize=(18,10))\n",
    "\n",
    "\n",
    "fig, ax = plt.subplots(figsize=(18,10));\n",
    "\n",
    "for i in range(8):\n",
    "\n",
    "    full = y_all.iloc[start:end]\n",
    "    train =y_all.iloc[middle - i - window:middle - i ]\n",
    "    predict = y_all.iloc[middle - i:middle - i + 1]\n",
    "\n",
    "    (full + 2*i).plot(ax=ax, c='grey', alpha=0.5);\n",
    "    (train + 2*i).plot(ax=ax, c='c', markersize=4,\n",
    "                       marker='o')\n",
    "    (predict + 2*i).plot(ax=ax, c='r', markersize=8,\n",
    "                         marker='o', linestyle='')\n",
    "\n",
    "    plt.xlim('2016-03-31','2016-04-24');\n",
    "\n",
    "\n",
    "plt.show()    \n",
    "ax.get_yaxis().set_ticks([]);\n",
    "ax.legend(['full time series',\n",
    "           '$\\mathbf{X}$',\n",
    "           '$y$'],\n",
    "          bbox_to_anchor=(1, 1));\n",
    "\n",
    "plt.show()"
   ]
  },
  {
   "cell_type": "code",
   "execution_count": null,
   "metadata": {},
   "outputs": [],
   "source": [
    "full = y_all.iloc[start:end]\n",
    "full.plot(c='grey', alpha=0.5)\n"
   ]
  },
  {
   "cell_type": "code",
   "execution_count": null,
   "metadata": {},
   "outputs": [],
   "source": [
    "np.where(y_test.index=='2016-04-13')"
   ]
  },
  {
   "cell_type": "code",
   "execution_count": null,
   "metadata": {},
   "outputs": [],
   "source": [
    "y_all.iloc[middle - 1:middle - 1 ]"
   ]
  },
  {
   "cell_type": "code",
   "execution_count": null,
   "metadata": {
    "scrolled": true
   },
   "outputs": [],
   "source": [
    "y_all.iloc[middle - 1- window:middle - 1].index"
   ]
  },
  {
   "cell_type": "code",
   "execution_count": null,
   "metadata": {},
   "outputs": [],
   "source": [
    "window = 120\n",
    "num_samples = 200\n",
    "X_mat = []\n",
    "X_pred_date = []\n",
    "y_mat = []\n",
    "for i in range(num_samples):\n",
    "    # Slice a window of features\n",
    "    X_mat.append(y_all.iloc[middle - i - window:middle - i].values)\n",
    "    y_mat.append(y_all.iloc[middle - i:middle - i + 1].values)\n",
    "    X_pred_date.append(tuple([str(pd.to_datetime(np.max(y_all.iloc[middle - i - window:middle - i].index)).month)+\"/\"+\n",
    "                              str(pd.to_datetime(np.max(y_all.iloc[middle - i - window:middle - i].index)).day)+\"/\"+\n",
    "                              str(pd.to_datetime(np.max(y_all.iloc[middle - i - window:middle - i].index)).year)]))\n",
    "X_mat = np.vstack(X_mat)\n",
    "X_pred_date = np.vstack(X_pred_date)\n",
    "X_pred_date=np.concatenate(X_pred_date)\n",
    "y_mat = np.concatenate(y_mat)\n",
    "\n",
    "assert X_mat.shape == (num_samples, window)\n",
    "assert len(y_mat) == num_samples"
   ]
  },
  {
   "cell_type": "code",
   "execution_count": null,
   "metadata": {
    "scrolled": true
   },
   "outputs": [],
   "source": [
    "y_test = y_mat[180:]"
   ]
  },
  {
   "cell_type": "code",
   "execution_count": null,
   "metadata": {},
   "outputs": [],
   "source": [
    "from sklearn.linear_model import LinearRegression\n",
    "from sklearn.metrics import r2_score\n",
    "from sklearn.ensemble import RandomForestRegressor, GradientBoostingRegressor\n",
    "\n",
    "Xmat = pd.DataFrame(X_mat)\n",
    "\n",
    "Xmat['Last_date']=X_pred_date\n",
    "Xmat['Last_date']=pd.to_datetime(Xmat['Last_date']) \n",
    "\n",
    "Xmat['Target'] = y_mat\n",
    "\n",
    "train_df = Xmat.iloc[0:180]\n",
    "test_df = Xmat.iloc[180:]\n",
    "\n",
    "\n",
    "Xmat.head()\n",
    "\n",
    "#lr = RandomForestRegressor(n_estimators=1000,max_depth=10,min_samples_split=4)\n",
    "#lr = lr.fit(train_df.drop('Target',axis=1), train_df['Target'])\n",
    "#y_pred = lr.predict(test_df.drop('Target',axis=1))"
   ]
  },
  {
   "cell_type": "code",
   "execution_count": null,
   "metadata": {},
   "outputs": [],
   "source": [
    "plt.plot(y_test)\n",
    "plt.plot(y_pred)\n",
    "np.sqrt(mean_squared_error(y_test,y_pred))\n",
    "\n"
   ]
  },
  {
   "cell_type": "markdown",
   "metadata": {},
   "source": [
    "## y_mat\n"
   ]
  },
  {
   "cell_type": "code",
   "execution_count": null,
   "metadata": {},
   "outputs": [],
   "source": [
    "list(X_pred_date)"
   ]
  },
  {
   "cell_type": "code",
   "execution_count": null,
   "metadata": {},
   "outputs": [],
   "source": [
    "y_test"
   ]
  },
  {
   "cell_type": "code",
   "execution_count": null,
   "metadata": {},
   "outputs": [],
   "source": [
    "Xmat"
   ]
  },
  {
   "cell_type": "code",
   "execution_count": null,
   "metadata": {},
   "outputs": [],
   "source": []
  }
 ],
 "metadata": {
  "kernelspec": {
   "display_name": "Python 3",
   "language": "python",
   "name": "python3"
  },
  "language_info": {
   "codemirror_mode": {
    "name": "ipython",
    "version": 3
   },
   "file_extension": ".py",
   "mimetype": "text/x-python",
   "name": "python",
   "nbconvert_exporter": "python",
   "pygments_lexer": "ipython3",
   "version": "3.7.3"
  }
 },
 "nbformat": 4,
 "nbformat_minor": 2
}
