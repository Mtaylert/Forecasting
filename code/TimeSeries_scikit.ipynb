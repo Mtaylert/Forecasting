{
 "cells": [
  {
   "cell_type": "code",
   "execution_count": 1,
   "metadata": {},
   "outputs": [],
   "source": [
    "import pandas as pd\n",
    "import numpy as np\n",
    "import os\n",
    "import matplotlib.pyplot as plt\n",
    "import seaborn as sns\n",
    "import gc\n",
    "from sklearn.metrics import mean_squared_error\n",
    "from sklearn.preprocessing import LabelEncoder,OneHotEncoder"
   ]
  },
  {
   "cell_type": "code",
   "execution_count": 2,
   "metadata": {},
   "outputs": [],
   "source": [
    "path = '/Users/sheenmccullough/Documents/Kaggle/M5Forecasting/'\n",
    "\n",
    "calendar = pd.read_csv(path+'calendar.csv')\n",
    "trainData = pd.read_csv(path+'sales_train_validation.csv')\n",
    "sellprices = pd.read_csv(path+'sell_prices.csv')"
   ]
  },
  {
   "cell_type": "code",
   "execution_count": 3,
   "metadata": {},
   "outputs": [],
   "source": [
    "def Convert_to_transaction(df):\n",
    "    \n",
    "    '''\n",
    "    convert our sales data into a daily transacitons set using the pandas melt function\n",
    "    '''\n",
    "    list_id_vars = ['id', 'item_id', 'dept_id', 'cat_id', 'store_id', 'state_id'] \n",
    "    d_columns = df.drop(list_id_vars,axis=1)\n",
    "    df_melted_sales = df.melt(id_vars = list_id_vars, value_vars = d_columns.columns, var_name = 'days', value_name = 'sales') \n",
    "    \n",
    "    \n",
    "    return df_melted_sales\n",
    "\n"
   ]
  },
  {
   "cell_type": "code",
   "execution_count": 4,
   "metadata": {},
   "outputs": [],
   "source": [
    "train_df_melt = Convert_to_transaction(trainData)"
   ]
  },
  {
   "cell_type": "code",
   "execution_count": 5,
   "metadata": {},
   "outputs": [
    {
     "data": {
      "text/plain": [
       "144"
      ]
     },
     "execution_count": 5,
     "metadata": {},
     "output_type": "execute_result"
    }
   ],
   "source": [
    "#del train_df_melt\n",
    "del trainData\n",
    "gc.collect()"
   ]
  },
  {
   "cell_type": "code",
   "execution_count": 6,
   "metadata": {},
   "outputs": [],
   "source": [
    "train_df = pd.merge(train_df_melt,calendar[['d','wday','wm_yr_wk','event_name_1','date','year']],left_on='days',\n",
    "                    right_on='d')"
   ]
  },
  {
   "cell_type": "code",
   "execution_count": 7,
   "metadata": {},
   "outputs": [],
   "source": [
    "train = train_df[train_df['date']<='2016-04-01']\n",
    "validation = train_df[train_df['date']>'2016-04-01']"
   ]
  },
  {
   "cell_type": "code",
   "execution_count": 8,
   "metadata": {},
   "outputs": [],
   "source": [
    "def autocorrelation(x, n_lags):\n",
    "    autocorrels = {'lags':[],'autocorrelation':[]}\n",
    "    for l in range(1,n_lags):\n",
    "        mean = x.mean()\n",
    "        normarray = x[:-l]\n",
    "        lagarray= x[l:]\n",
    "        numerator = sum([((yt-mean)*(ytk-mean)) for yt,ytk in zip(normarray,lagarray)])\n",
    "        denominator = sum([(yt-mean)**2 for yt in normarray])\n",
    "        \n",
    "        autocorrels['lags'].append(l)\n",
    "        if denominator!=0:\n",
    "            val =numerator/denominator\n",
    "            autocorrels['autocorrelation'].append(numerator/denominator)\n",
    "\n",
    "            plt.vlines(l,0,(numerator/denominator))\n",
    "        else:\n",
    "            \n",
    "            autocorrels['autocorrelation'].append(0)\n",
    "\n",
    "            plt.vlines(l,0,(0))\n",
    "            \n",
    "         \n",
    "    plt.plot(autocorrels['lags'],autocorrels['autocorrelation'],'bo')\n",
    "    plt.hlines(0,0,n_lags+1)\n",
    "    upperlimit = 2/np.sqrt(len(normarray))\n",
    "    lowerlimit = -(2/np.sqrt(len(normarray)))\n",
    "    plt.hlines(lowerlimit,0,n_lags+1,colors='b',linestyles='dashed')\n",
    "    plt.hlines(upperlimit,0,n_lags+1,colors='b',linestyles='dashed')\n",
    "    plt.show()\n",
    "\n",
    "\n",
    "    return autocorrels"
   ]
  },
  {
   "cell_type": "markdown",
   "metadata": {},
   "source": [
    "\n",
    "ARIMA\n",
    "     -Autoregressive: When working with a time series and a previous values has a linear relationship with the current value\n",
    "     \n",
    "     -Integrated: These are for if you want to predict the difference between pairs of y values as opposed to predicting y directly.\n",
    "     \n",
    "     -Moving Average: The difference between the true values of y at previous points in time and our prediction\n",
    "     \n",
    "     "
   ]
  },
  {
   "cell_type": "code",
   "execution_count": null,
   "metadata": {},
   "outputs": [],
   "source": []
  }
 ],
 "metadata": {
  "kernelspec": {
   "display_name": "Python 3",
   "language": "python",
   "name": "python3"
  },
  "language_info": {
   "codemirror_mode": {
    "name": "ipython",
    "version": 3
   },
   "file_extension": ".py",
   "mimetype": "text/x-python",
   "name": "python",
   "nbconvert_exporter": "python",
   "pygments_lexer": "ipython3",
   "version": "3.7.3"
  }
 },
 "nbformat": 4,
 "nbformat_minor": 2
}
